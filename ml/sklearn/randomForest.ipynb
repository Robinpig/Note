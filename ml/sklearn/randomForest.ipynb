{
 "nbformat": 4,
 "nbformat_minor": 2,
 "metadata": {
  "language_info": {
   "name": "python",
   "codemirror_mode": {
    "name": "ipython",
    "version": 3
   },
   "version": "3.7.3-final"
  },
  "orig_nbformat": 2,
  "file_extension": ".py",
  "mimetype": "text/x-python",
  "name": "python",
  "npconvert_exporter": "python",
  "pygments_lexer": "ipython3",
  "version": 3,
  "kernelspec": {
   "name": "python37332bit64ecc318f43245fe87cbadaf668d3da5",
   "display_name": "Python 3.7.3 32-bit"
  }
 },
 "cells": [
  {
   "cell_type": "code",
   "execution_count": 11,
   "metadata": {},
   "outputs": [],
   "source": [
    "from sklearn.tree import DecisionTreeClassifier\n",
    "from sklearn.ensemble import RandomForestClassifier\n",
    "from sklearn.datasets import make_classification\n",
    "from sklearn.model_selection import train_test_split\n",
    "from sklearn.metrics import classification_report\n"
   ]
  },
  {
   "cell_type": "code",
   "execution_count": 12,
   "metadata": {},
   "outputs": [
    {
     "name": "stdout",
     "output_type": "stream",
     "text": "precision    recall  f1-score   support\n\n           0       0.73      0.66      0.69       127\n           1       0.68      0.75      0.71       123\n\n    accuracy                           0.70       250\n   macro avg       0.71      0.70      0.70       250\nweighted avg       0.71      0.70      0.70       250\n\n"
    }
   ],
   "source": [
    "X,y=make_classification(\n",
    "    n_samples=1000,n_features=100,n_informative=20,random_state=11\n",
    ")\n",
    "X_train,X_test,y_train,y_test=train_test_split(X,y,random_state=11)\n",
    "clf=DecisionTreeClassifier(random_state=11)\n",
    "clf.fit(X_train,y_train)\n",
    "predictions=clf.predict(X_test)\n",
    "print(classification_report(y_test,predictions))"
   ]
  },
  {
   "cell_type": "code",
   "execution_count": 13,
   "metadata": {},
   "outputs": [
    {
     "name": "stdout",
     "output_type": "stream",
     "text": "precision    recall  f1-score   support\n\n           0       0.74      0.83      0.79       127\n           1       0.80      0.70      0.75       123\n\n    accuracy                           0.77       250\n   macro avg       0.77      0.77      0.77       250\nweighted avg       0.77      0.77      0.77       250\n\n"
    }
   ],
   "source": [
    "clf=RandomForestClassifier(n_estimators=10,random_state=11)\n",
    "clf.fit(X_train,y_train)\n",
    "predictions=clf.predict(X_test)\n",
    "print(classification_report(y_test,predictions))"
   ]
  },
  {
   "cell_type": "code",
   "execution_count": null,
   "metadata": {},
   "outputs": [],
   "source": []
  }
 ]
}