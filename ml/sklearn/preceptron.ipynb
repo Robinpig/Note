{
 "nbformat": 4,
 "nbformat_minor": 2,
 "metadata": {
  "language_info": {
   "name": "python",
   "codemirror_mode": {
    "name": "ipython",
    "version": 3
   },
   "version": "3.7.3-final"
  },
  "orig_nbformat": 2,
  "file_extension": ".py",
  "mimetype": "text/x-python",
  "name": "python",
  "npconvert_exporter": "python",
  "pygments_lexer": "ipython3",
  "version": 3,
  "kernelspec": {
   "name": "python37332bit64ecc318f43245fe87cbadaf668d3da5",
   "display_name": "Python 3.7.3 32-bit"
  }
 },
 "cells": [
  {
   "cell_type": "code",
   "execution_count": 1,
   "metadata": {},
   "outputs": [],
   "source": [
    "from sklearn.datasets import fetch_20newsgroups\n",
    "from sklearn.feature_extraction.text import TfidfVectorizer\n",
    "from sklearn.linear_model import Perceptron\n",
    "from sklearn.metrics import f1_score,classification_report\n"
   ]
  },
  {
   "cell_type": "code",
   "execution_count": 2,
   "metadata": {},
   "outputs": [
    {
     "name": "stderr",
     "output_type": "stream",
     "text": "Downloading 20news dataset. This may take a few minutes.\nDownloading dataset from https://ndownloader.figshare.com/files/5975967 (14 MB)\n"
    }
   ],
   "source": [
    "categories=['rec.sport.hockey','rec.sport.baseball','rec.autos']\n",
    "newsgroups_train=fetch_20newsgroups(subset='train',categories=categories,remove=('headers','footers','quotes'))\n",
    "newsgroups_test=fetch_20newsgroups(subset='test',categories=categories,remove=('headers','footers','quotes'))\n"
   ]
  },
  {
   "cell_type": "code",
   "execution_count": 0,
   "metadata": {},
   "outputs": [],
   "source": [
    "vectorizer=TfidfVectorizer()\n",
    "X_train=vectorizer.fit_transform(newsgroups_train.data)\n",
    "X_test=vectorizer.transform(newsgroups_test.data)\n",
    "clf=Perceptron(random_state=11)\n",
    "clf.fit(X_train,newsgroups_train.target)\n",
    "predictions =clf.predict(X_test)\n",
    "print(classification_report(newsgroups_test.target,predictions))\n"
   ]
  }
 ]
}