{
 "nbformat": 4,
 "nbformat_minor": 2,
 "metadata": {
  "language_info": {
   "name": "python",
   "codemirror_mode": {
    "name": "ipython",
    "version": 3
   },
   "version": "3.7.3-final"
  },
  "orig_nbformat": 2,
  "file_extension": ".py",
  "mimetype": "text/x-python",
  "name": "python",
  "npconvert_exporter": "python",
  "pygments_lexer": "ipython3",
  "version": 3,
  "kernelspec": {
   "name": "python37332bit64ecc318f43245fe87cbadaf668d3da5",
   "display_name": "Python 3.7.3 32-bit"
  }
 },
 "cells": [
  {
   "cell_type": "code",
   "execution_count": 1,
   "metadata": {},
   "outputs": [],
   "source": [
    "# training 啊mlti-layer perceptron to approximate XOR\n",
    "from sklearn.model_selection import train_test_split\n",
    "from sklearn.neural_network import MLPClassifier\n"
   ]
  },
  {
   "cell_type": "code",
   "execution_count": 2,
   "metadata": {},
   "outputs": [],
   "source": [
    "y=[0,1,1,0]\n",
    "X=[[0,0],[0,1],[1,0],[1,1]]"
   ]
  },
  {
   "cell_type": "code",
   "execution_count": 3,
   "metadata": {},
   "outputs": [
    {
     "data": {
      "text/plain": "MLPClassifier(activation='logistic', alpha=0.0001, batch_size='auto',\n              beta_1=0.9, beta_2=0.999, early_stopping=False, epsilon=1e-08,\n              hidden_layer_sizes=(2,), learning_rate='constant',\n              learning_rate_init=0.001, max_fun=15000, max_iter=100,\n              momentum=0.9, n_iter_no_change=10, nesterovs_momentum=True,\n              power_t=0.5, random_state=20, shuffle=True, solver='lbfgs',\n              tol=0.0001, validation_fraction=0.1, verbose=False,\n              warm_start=False)"
     },
     "execution_count": 3,
     "metadata": {},
     "output_type": "execute_result"
    }
   ],
   "source": [
    "clf=MLPClassifier(solver='lbfgs',activation='logistic',hidden_layer_sizes=(2,),max_iter=100,random_state=20)\n",
    "clf.fit(X,y)"
   ]
  },
  {
   "cell_type": "code",
   "execution_count": 4,
   "metadata": {},
   "outputs": [
    {
     "name": "stdout",
     "output_type": "stream",
     "text": "Accuracy: 1.0\nTrue: 0, Predicted: 0\nTrue: 1, Predicted: 1\nTrue: 1, Predicted: 1\nTrue: 0, Predicted: 0\n"
    }
   ],
   "source": [
    "predictions=clf.predict(X)\n",
    "print('Accuracy: %s'% clf.score(X,y))\n",
    "for i,p in enumerate(predictions[:10]):\n",
    "    print('True: %s, Predicted: %s'%(y[i],p))"
   ]
  },
  {
   "cell_type": "code",
   "execution_count": 5,
   "metadata": {},
   "outputs": [
    {
     "name": "stdout",
     "output_type": "stream",
     "text": "Weights connecting the input layer and the hidden layer: \n[[6.11803906 6.35656374]\n [5.79147887 6.14551943]]\nHidden layer bias weights:\n[-9.38637932 -2.77751731]\nWeights connecting the hidden layer and the output laayer: \n[[-14.95481869]\n [ 14.53080973]]\nOutput layer bias weight: \n[-7.22845328]\n"
    }
   ],
   "source": [
    "print(\"Weights connecting the input layer and the hidden layer: \\n%s\" % clf.coefs_[0])\n",
    "print(\"Hidden layer bias weights:\\n%s\" % clf.intercepts_[0])\n",
    "print(\"Weights connecting the hidden layer and the output laayer: \\n%s\" % clf.coefs_[1])\n",
    "print(\"Output layer bias weight: \\n%s\" %clf.intercepts_[1])"
   ]
  },
  {
   "cell_type": "code",
   "execution_count": null,
   "metadata": {},
   "outputs": [],
   "source": []
  }
 ]
}