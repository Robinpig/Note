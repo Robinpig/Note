{
 "nbformat": 4,
 "nbformat_minor": 2,
 "metadata": {
  "language_info": {
   "name": "python",
   "codemirror_mode": {
    "name": "ipython",
    "version": 3
   },
   "version": "3.7.3-final"
  },
  "orig_nbformat": 2,
  "file_extension": ".py",
  "mimetype": "text/x-python",
  "name": "python",
  "npconvert_exporter": "python",
  "pygments_lexer": "ipython3",
  "version": 3,
  "kernelspec": {
   "name": "python3",
   "language": "python",
   "display_name": "Python 3"
  }
 },
 "cells": [
  {
   "cell_type": "code",
   "execution_count": 1,
   "metadata": {
    "pycharm": {
     "is_executing": false
    }
   },
   "outputs": [],
   "source": [
    "# training 啊mlti-layer perceptron to approximate XOR\n",
    "from sklearn.model_selection import train_test_split\n",
    "from sklearn.neural_network import MLPClassifier\n"
   ]
  },
  {
   "cell_type": "code",
   "execution_count": 2,
   "metadata": {
    "pycharm": {
     "is_executing": false
    }
   },
   "outputs": [],
   "source": [
    "y=[0,1,1,0]\n",
    "X=[[0,0],[0,1],[1,0],[1,1]]"
   ]
  },
  {
   "cell_type": "code",
   "execution_count": 3,
   "metadata": {
    "pycharm": {
     "is_executing": false
    }
   },
   "outputs": [
    {
     "data": {
      "text/plain": "MLPClassifier(activation='logistic', alpha=0.0001, batch_size='auto',\n              beta_1=0.9, beta_2=0.999, early_stopping=False, epsilon=1e-08,\n              hidden_layer_sizes=(2,), learning_rate='constant',\n              learning_rate_init=0.001, max_fun=15000, max_iter=100,\n              momentum=0.9, n_iter_no_change=10, nesterovs_momentum=True,\n              power_t=0.5, random_state=20, shuffle=True, solver='lbfgs',\n              tol=0.0001, validation_fraction=0.1, verbose=False,\n              warm_start=False)"
     },
     "metadata": {},
     "output_type": "execute_result",
     "execution_count": 3
    }
   ],
   "source": [
    "clf=MLPClassifier(solver='lbfgs',activation='logistic',hidden_layer_sizes=(2,),max_iter=100,random_state=20)\n",
    "clf.fit(X,y)"
   ]
  },
  {
   "cell_type": "code",
   "execution_count": 4,
   "metadata": {
    "pycharm": {
     "is_executing": false
    }
   },
   "outputs": [
    {
     "name": "stdout",
     "text": [
      "Accuracy: 1.0\n",
      "True: 0, Predicted: 0\n",
      "True: 1, Predicted: 1\n",
      "True: 1, Predicted: 1\n",
      "True: 0, Predicted: 0\n"
     ],
     "output_type": "stream"
    }
   ],
   "source": [
    "predictions=clf.predict(X)\n",
    "print('Accuracy: %s'% clf.score(X,y))\n",
    "for i,p in enumerate(predictions[:10]):\n",
    "    print('True: %s, Predicted: %s'%(y[i],p))"
   ]
  },
  {
   "cell_type": "code",
   "execution_count": 5,
   "metadata": {
    "pycharm": {
     "is_executing": false
    }
   },
   "outputs": [
    {
     "name": "stdout",
     "text": [
      "Weights connecting the input layer and the hidden layer: \n",
      "[[6.11803979 6.35656366]\n",
      " [5.79147844 6.14551902]]\n",
      "Hidden layer bias weights:\n",
      "[-9.38637898 -2.77751792]\n",
      "Weights connecting the hidden layer and the output laayer: \n",
      "[[-14.95481666]\n",
      " [ 14.53080965]]\n",
      "Output layer bias weight: \n",
      "[-7.22845301]\n"
     ],
     "output_type": "stream"
    }
   ],
   "source": [
    "print(\"Weights connecting the input layer and the hidden layer: \\n%s\" % clf.coefs_[0])\n",
    "print(\"Hidden layer bias weights:\\n%s\" % clf.intercepts_[0])\n",
    "print(\"Weights connecting the hidden layer and the output laayer: \\n%s\" % clf.coefs_[1])\n",
    "print(\"Output layer bias weight: \\n%s\" %clf.intercepts_[1])"
   ]
  },
  {
   "cell_type": "code",
   "execution_count": 5,
   "metadata": {
    "pycharm": {
     "is_executing": false
    }
   },
   "outputs": [],
   "source": []
  }
 ]
}