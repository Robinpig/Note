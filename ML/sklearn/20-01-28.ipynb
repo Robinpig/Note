{
 "nbformat": 4,
 "nbformat_minor": 2,
 "metadata": {
  "language_info": {
   "name": "python",
   "codemirror_mode": {
    "name": "ipython",
    "version": 3
   },
   "version": "3.7.3-final"
  },
  "orig_nbformat": 2,
  "file_extension": ".py",
  "mimetype": "text/x-python",
  "name": "python",
  "npconvert_exporter": "python",
  "pygments_lexer": "ipython3",
  "version": 3,
  "kernelspec": {
   "name": "python37332bit64ecc318f43245fe87cbadaf668d3da5",
   "display_name": "Python 3.7.3 32-bit"
  }
 },
 "cells": [
  {
   "cell_type": "code",
   "execution_count": 1,
   "metadata": {},
   "outputs": [],
   "source": [
    "from numpy import *"
   ]
  },
  {
   "cell_type": "code",
   "execution_count": 3,
   "metadata": {},
   "outputs": [
    {
     "data": {
      "text/plain": "array([[0.79664991, 0.70055291, 0.23504084, 0.05845698],\n       [0.66756728, 0.72702487, 0.18783168, 0.9699685 ],\n       [0.10892547, 0.21417347, 0.40414893, 0.25512412],\n       [0.13637076, 0.89731678, 0.99893648, 0.0860762 ]])"
     },
     "execution_count": 3,
     "metadata": {},
     "output_type": "execute_result"
    }
   ],
   "source": [
    "random.rand(4,4)"
   ]
  },
  {
   "cell_type": "code",
   "execution_count": 2,
   "metadata": {},
   "outputs": [],
   "source": [
    "# create a 4*4 random array"
   ]
  },
  {
   "cell_type": "code",
   "execution_count": 4,
   "metadata": {},
   "outputs": [],
   "source": [
    "# transform array to matrix\n",
    "randMat=mat(random.rand(4,4))"
   ]
  },
  {
   "cell_type": "code",
   "execution_count": 5,
   "metadata": {},
   "outputs": [
    {
     "data": {
      "text/plain": "matrix([[0.11785405, 0.430492  , 0.32414314, 0.40494717],\n        [0.96407491, 0.74797956, 0.9142055 , 0.20396316],\n        [0.89034087, 0.78476237, 0.88696818, 0.99569746],\n        [0.02017958, 0.11405403, 0.36486983, 0.66728525]])"
     },
     "execution_count": 5,
     "metadata": {},
     "output_type": "execute_result"
    }
   ],
   "source": [
    "randMat"
   ]
  },
  {
   "cell_type": "code",
   "execution_count": 6,
   "metadata": {},
   "outputs": [
    {
     "data": {
      "text/plain": "matrix([[-2.43976899, -0.59383269,  2.12326469, -1.50615006],\n        [ 3.55005097, -0.5112632 ,  0.13348647, -2.19728579],\n        [-0.24235442,  2.40871785, -2.65246915,  3.368736  ],\n        [-0.40048282, -1.211736  ,  1.36333706,  0.07770687]])"
     },
     "execution_count": 6,
     "metadata": {},
     "output_type": "execute_result"
    }
   ],
   "source": [
    "invRandMat=randMat.I\n",
    "invRandMat #matrix 求逆运算"
   ]
  },
  {
   "cell_type": "code",
   "execution_count": 7,
   "metadata": {},
   "outputs": [
    {
     "data": {
      "text/plain": "matrix([[-4.44089210e-16,  0.00000000e+00, -1.11022302e-16,\n          3.46944695e-17],\n        [-1.38777878e-16,  0.00000000e+00,  5.55111512e-17,\n          2.42861287e-17],\n        [-5.55111512e-16,  2.22044605e-16,  2.22044605e-16,\n         -2.63677968e-16],\n        [ 0.00000000e+00,  0.00000000e+00,  0.00000000e+00,\n         -2.22044605e-16]])"
     },
     "execution_count": 7,
     "metadata": {},
     "output_type": "execute_result"
    }
   ],
   "source": [
    "myEye=randMat*invRandMat\n",
    "myEye-eye(4)"
   ]
  },
  {
   "cell_type": "code",
   "execution_count": 8,
   "metadata": {},
   "outputs": [
    {
     "data": {
      "text/plain": "matrix([[ 1.00000000e+00,  0.00000000e+00, -1.11022302e-16,\n          3.46944695e-17],\n        [-1.38777878e-16,  1.00000000e+00,  5.55111512e-17,\n          2.42861287e-17],\n        [-5.55111512e-16,  2.22044605e-16,  1.00000000e+00,\n         -2.63677968e-16],\n        [ 0.00000000e+00,  0.00000000e+00,  0.00000000e+00,\n          1.00000000e+00]])"
     },
     "execution_count": 8,
     "metadata": {},
     "output_type": "execute_result"
    }
   ],
   "source": [
    "myEye"
   ]
  },
  {
   "cell_type": "code",
   "execution_count": 9,
   "metadata": {},
   "outputs": [
    {
     "data": {
      "text/plain": "array([[1., 0., 0., 0.],\n       [0., 1., 0., 0.],\n       [0., 0., 1., 0.],\n       [0., 0., 0., 1.]])"
     },
     "execution_count": 9,
     "metadata": {},
     "output_type": "execute_result"
    }
   ],
   "source": [
    "eye(4)"
   ]
  },
  {
   "cell_type": "code",
   "execution_count": null,
   "metadata": {},
   "outputs": [],
   "source": []
  }
 ]
}