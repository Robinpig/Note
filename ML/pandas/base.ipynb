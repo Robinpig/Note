{
 "cells": [
  {
   "cell_type": "code",
   "execution_count": 1,
   "metadata": {
    "collapsed": true
   },
   "outputs": [],
   "source": [
    "import pandas as pd\n",
    "import numpy as np\n",
    "\n"
   ]
  },
  {
   "cell_type": "code",
   "execution_count": 2,
   "outputs": [
    {
     "data": {
      "text/plain": "'1.0.1'"
     },
     "execution_count": 2,
     "metadata": {},
     "output_type": "execute_result"
    }
   ],
   "source": [
    "pd.__version__\n",
    "\n"
   ],
   "metadata": {
    "collapsed": false,
    "pycharm": {
     "name": "#%%\n"
    }
   }
  },
  {
   "cell_type": "code",
   "execution_count": 2,
   "outputs": [],
   "source": [],
   "metadata": {
    "collapsed": false,
    "pycharm": {
     "name": "#%%\n"
    }
   }
  },
  {
   "cell_type": "code",
   "execution_count": 10,
   "outputs": [],
   "source": [
    "url=\"F:\\\\Git_Library\\\\Note\\\\ML\\\\pandas\\\\\""
   ],
   "metadata": {
    "collapsed": false,
    "pycharm": {
     "name": "#%%\n"
    }
   }
  },
  {
   "cell_type": "code",
   "execution_count": 11,
   "outputs": [
    {
     "data": {
      "text/plain": "  School Class    ID Gender   Address  Height  Weight  Math Physics\n0    S_1   C_1  1101      M  street_1     173      63  34.0      A+\n1    S_1   C_1  1102      F  street_2     192      73  32.5      B+\n2    S_1   C_1  1103      M  street_2     186      82  87.2      B+\n3    S_1   C_1  1104      F  street_2     167      81  80.4      B-\n4    S_1   C_1  1105      F  street_4     159      64  84.8      B+",
      "text/html": "<div>\n<style scoped>\n    .dataframe tbody tr th:only-of-type {\n        vertical-align: middle;\n    }\n\n    .dataframe tbody tr th {\n        vertical-align: top;\n    }\n\n    .dataframe thead th {\n        text-align: right;\n    }\n</style>\n<table border=\"1\" class=\"dataframe\">\n  <thead>\n    <tr style=\"text-align: right;\">\n      <th></th>\n      <th>School</th>\n      <th>Class</th>\n      <th>ID</th>\n      <th>Gender</th>\n      <th>Address</th>\n      <th>Height</th>\n      <th>Weight</th>\n      <th>Math</th>\n      <th>Physics</th>\n    </tr>\n  </thead>\n  <tbody>\n    <tr>\n      <th>0</th>\n      <td>S_1</td>\n      <td>C_1</td>\n      <td>1101</td>\n      <td>M</td>\n      <td>street_1</td>\n      <td>173</td>\n      <td>63</td>\n      <td>34.0</td>\n      <td>A+</td>\n    </tr>\n    <tr>\n      <th>1</th>\n      <td>S_1</td>\n      <td>C_1</td>\n      <td>1102</td>\n      <td>F</td>\n      <td>street_2</td>\n      <td>192</td>\n      <td>73</td>\n      <td>32.5</td>\n      <td>B+</td>\n    </tr>\n    <tr>\n      <th>2</th>\n      <td>S_1</td>\n      <td>C_1</td>\n      <td>1103</td>\n      <td>M</td>\n      <td>street_2</td>\n      <td>186</td>\n      <td>82</td>\n      <td>87.2</td>\n      <td>B+</td>\n    </tr>\n    <tr>\n      <th>3</th>\n      <td>S_1</td>\n      <td>C_1</td>\n      <td>1104</td>\n      <td>F</td>\n      <td>street_2</td>\n      <td>167</td>\n      <td>81</td>\n      <td>80.4</td>\n      <td>B-</td>\n    </tr>\n    <tr>\n      <th>4</th>\n      <td>S_1</td>\n      <td>C_1</td>\n      <td>1105</td>\n      <td>F</td>\n      <td>street_4</td>\n      <td>159</td>\n      <td>64</td>\n      <td>84.8</td>\n      <td>B+</td>\n    </tr>\n  </tbody>\n</table>\n</div>"
     },
     "execution_count": 11,
     "metadata": {},
     "output_type": "execute_result"
    }
   ],
   "source": [
    "df = pd.read_csv('F:\\\\Git_Library\\\\Note\\\\ML\\\\pandas\\\\data\\\\table.csv')\n",
    "df.head()\n"
   ],
   "metadata": {
    "collapsed": false,
    "pycharm": {
     "name": "#%%\n"
    }
   }
  },
  {
   "cell_type": "code",
   "execution_count": 12,
   "outputs": [
    {
     "data": {
      "text/plain": "   col1 col2  col3    col4\n0     2    a   1.4   apple\n1     3    b   3.4  banana\n2     6    c   2.5  orange\n3     5    d   3.2   lemon",
      "text/html": "<div>\n<style scoped>\n    .dataframe tbody tr th:only-of-type {\n        vertical-align: middle;\n    }\n\n    .dataframe tbody tr th {\n        vertical-align: top;\n    }\n\n    .dataframe thead th {\n        text-align: right;\n    }\n</style>\n<table border=\"1\" class=\"dataframe\">\n  <thead>\n    <tr style=\"text-align: right;\">\n      <th></th>\n      <th>col1</th>\n      <th>col2</th>\n      <th>col3</th>\n      <th>col4</th>\n    </tr>\n  </thead>\n  <tbody>\n    <tr>\n      <th>0</th>\n      <td>2</td>\n      <td>a</td>\n      <td>1.4</td>\n      <td>apple</td>\n    </tr>\n    <tr>\n      <th>1</th>\n      <td>3</td>\n      <td>b</td>\n      <td>3.4</td>\n      <td>banana</td>\n    </tr>\n    <tr>\n      <th>2</th>\n      <td>6</td>\n      <td>c</td>\n      <td>2.5</td>\n      <td>orange</td>\n    </tr>\n    <tr>\n      <th>3</th>\n      <td>5</td>\n      <td>d</td>\n      <td>3.2</td>\n      <td>lemon</td>\n    </tr>\n  </tbody>\n</table>\n</div>"
     },
     "execution_count": 12,
     "metadata": {},
     "output_type": "execute_result"
    }
   ],
   "source": [
    "df_txt = pd.read_table(url+'data/table.txt') #可设置sep分隔符参数\n",
    "df_txt"
   ],
   "metadata": {
    "collapsed": false,
    "pycharm": {
     "name": "#%%\n"
    }
   }
  },
  {
   "cell_type": "code",
   "execution_count": 13,
   "outputs": [
    {
     "data": {
      "text/plain": "  School Class    ID Gender   Address  Height  Weight  Math Physics\n0    S_1   C_1  1101      M  street_1     173      63  34.0      A+\n1    S_1   C_1  1102      F  street_2     192      73  32.5      B+\n2    S_1   C_1  1103      M  street_2     186      82  87.2      B+\n3    S_1   C_1  1104      F  street_2     167      81  80.4      B-\n4    S_1   C_1  1105      F  street_4     159      64  84.8      B+",
      "text/html": "<div>\n<style scoped>\n    .dataframe tbody tr th:only-of-type {\n        vertical-align: middle;\n    }\n\n    .dataframe tbody tr th {\n        vertical-align: top;\n    }\n\n    .dataframe thead th {\n        text-align: right;\n    }\n</style>\n<table border=\"1\" class=\"dataframe\">\n  <thead>\n    <tr style=\"text-align: right;\">\n      <th></th>\n      <th>School</th>\n      <th>Class</th>\n      <th>ID</th>\n      <th>Gender</th>\n      <th>Address</th>\n      <th>Height</th>\n      <th>Weight</th>\n      <th>Math</th>\n      <th>Physics</th>\n    </tr>\n  </thead>\n  <tbody>\n    <tr>\n      <th>0</th>\n      <td>S_1</td>\n      <td>C_1</td>\n      <td>1101</td>\n      <td>M</td>\n      <td>street_1</td>\n      <td>173</td>\n      <td>63</td>\n      <td>34.0</td>\n      <td>A+</td>\n    </tr>\n    <tr>\n      <th>1</th>\n      <td>S_1</td>\n      <td>C_1</td>\n      <td>1102</td>\n      <td>F</td>\n      <td>street_2</td>\n      <td>192</td>\n      <td>73</td>\n      <td>32.5</td>\n      <td>B+</td>\n    </tr>\n    <tr>\n      <th>2</th>\n      <td>S_1</td>\n      <td>C_1</td>\n      <td>1103</td>\n      <td>M</td>\n      <td>street_2</td>\n      <td>186</td>\n      <td>82</td>\n      <td>87.2</td>\n      <td>B+</td>\n    </tr>\n    <tr>\n      <th>3</th>\n      <td>S_1</td>\n      <td>C_1</td>\n      <td>1104</td>\n      <td>F</td>\n      <td>street_2</td>\n      <td>167</td>\n      <td>81</td>\n      <td>80.4</td>\n      <td>B-</td>\n    </tr>\n    <tr>\n      <th>4</th>\n      <td>S_1</td>\n      <td>C_1</td>\n      <td>1105</td>\n      <td>F</td>\n      <td>street_4</td>\n      <td>159</td>\n      <td>64</td>\n      <td>84.8</td>\n      <td>B+</td>\n    </tr>\n  </tbody>\n</table>\n</div>"
     },
     "execution_count": 13,
     "metadata": {},
     "output_type": "execute_result"
    }
   ],
   "source": [
    "df_excel = pd.read_excel(url+'data/table.xlsx')\n",
    "df_excel.head()\n",
    "\n"
   ],
   "metadata": {
    "collapsed": false,
    "pycharm": {
     "name": "#%%\n"
    }
   }
  },
  {
   "cell_type": "code",
   "execution_count": null,
   "outputs": [],
   "source": [
    "\n"
   ],
   "metadata": {
    "collapsed": false,
    "pycharm": {
     "name": "#%%\n"
    }
   }
  }
 ],
 "metadata": {
  "kernelspec": {
   "display_name": "Python 3",
   "language": "python",
   "name": "python3"
  },
  "language_info": {
   "codemirror_mode": {
    "name": "ipython",
    "version": 2
   },
   "file_extension": ".py",
   "mimetype": "text/x-python",
   "name": "python",
   "nbconvert_exporter": "python",
   "pygments_lexer": "ipython2",
   "version": "2.7.6"
  }
 },
 "nbformat": 4,
 "nbformat_minor": 0
}