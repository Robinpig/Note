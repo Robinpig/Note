{
 "cells": [
  {
   "cell_type": "code",
   "execution_count": 10,
   "metadata": {
    "collapsed": true
   },
   "outputs": [
    {
     "data": {
      "text/plain": "'1.4.0'"
     },
     "execution_count": 10,
     "metadata": {},
     "output_type": "execute_result"
    }
   ],
   "source": [
    "import torch\n",
    "import time\n",
    "\n",
    "torch.__version__"
   ]
  },
  {
   "cell_type": "code",
   "execution_count": 11,
   "outputs": [
    {
     "data": {
      "text/plain": "True"
     },
     "execution_count": 11,
     "metadata": {},
     "output_type": "execute_result"
    }
   ],
   "source": [
    "torch.cuda.is_available()\n",
    "\n"
   ],
   "metadata": {
    "collapsed": false,
    "pycharm": {
     "name": "#%%\n"
    }
   }
  },
  {
   "cell_type": "code",
   "execution_count": 12,
   "outputs": [],
   "source": [
    "a=torch.randn(10000,1000)\n",
    "b=torch.randn(1000,2000)"
   ],
   "metadata": {
    "collapsed": false,
    "pycharm": {
     "name": "#%%\n"
    }
   }
  },
  {
   "cell_type": "code",
   "execution_count": 13,
   "outputs": [
    {
     "name": "stdout",
     "output_type": "stream",
     "text": [
      "cpu 0.261737585067749 tensor(141277.5469)\n"
     ]
    }
   ],
   "source": [
    "t0=time.time()\n",
    "c=torch.matmul(a,b)\n",
    "t1=time.time()\n",
    "print(a.device,t1-t0,c.norm(2))\n",
    "\n",
    "\n"
   ],
   "metadata": {
    "collapsed": false,
    "pycharm": {
     "name": "#%%\n"
    }
   }
  },
  {
   "cell_type": "code",
   "execution_count": 14,
   "outputs": [],
   "source": [
    "device=torch.device('cuda')\n",
    "a=a.to(device)\n",
    "b=b.to(device)\n"
   ],
   "metadata": {
    "collapsed": false,
    "pycharm": {
     "name": "#%%\n"
    }
   }
  },
  {
   "cell_type": "code",
   "execution_count": 15,
   "outputs": [
    {
     "name": "stdout",
     "output_type": "stream",
     "text": [
      "cuda:0 0.012010812759399414 tensor(141421.4219, device='cuda:0')\n"
     ]
    }
   ],
   "source": [
    "t0=time.time()\n",
    "c=torch.matmul(a,b)\n",
    "t2=time.time()\n",
    "print(a.device,t2-t0,c.norm(2))\n"
   ],
   "metadata": {
    "collapsed": false,
    "pycharm": {
     "name": "#%%\n"
    }
   }
  },
  {
   "cell_type": "code",
   "execution_count": 16,
   "outputs": [
    {
     "name": "stdout",
     "output_type": "stream",
     "text": [
      "cuda:0 0.004004001617431641 tensor(141421.4219, device='cuda:0')\n"
     ]
    }
   ],
   "source": [
    "t0=time.time()\n",
    "c=torch.matmul(a,b)\n",
    "t2=time.time()\n",
    "print(a.device,t2-t0,c.norm(2))"
   ],
   "metadata": {
    "collapsed": false,
    "pycharm": {
     "name": "#%%\n"
    }
   }
  },
  {
   "cell_type": "code",
   "execution_count": 18,
   "outputs": [
    {
     "name": "stdout",
     "output_type": "stream",
     "text": [
      "before:  None None None\n",
      "after:  tensor(8.) tensor(4.) tensor(1.)\n"
     ]
    }
   ],
   "source": [
    "from torch import autograd\n",
    "x=torch.tensor(4.)\n",
    "a=torch.tensor(1.,requires_grad=True)\n",
    "b=torch.tensor(2.,requires_grad=True)\n",
    "c=torch.tensor(3.,requires_grad=True)\n",
    "y=a**2*x+b*x+c\n",
    "print(\"before: \",a.grad,b.grad,c.grad)\n",
    "grads=autograd.grad(y,[a,b,c])\n",
    "print(\"after: \",grads[0],grads[1],grads[2])\n"
   ],
   "metadata": {
    "collapsed": false,
    "pycharm": {
     "name": "#%%\n"
    }
   }
  },
  {
   "cell_type": "code",
   "execution_count": null,
   "outputs": [],
   "source": [
    "\n"
   ],
   "metadata": {
    "collapsed": false,
    "pycharm": {
     "name": "#%%\n"
    }
   }
  }
 ],
 "metadata": {
  "kernelspec": {
   "display_name": "Python 3",
   "language": "python",
   "name": "python3"
  },
  "language_info": {
   "codemirror_mode": {
    "name": "ipython",
    "version": 2
   },
   "file_extension": ".py",
   "mimetype": "text/x-python",
   "name": "python",
   "nbconvert_exporter": "python",
   "pygments_lexer": "ipython2",
   "version": "2.7.6"
  }
 },
 "nbformat": 4,
 "nbformat_minor": 0
}