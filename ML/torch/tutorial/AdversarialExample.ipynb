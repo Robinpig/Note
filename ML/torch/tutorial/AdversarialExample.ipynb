{
 "cells": [
  {
   "cell_type": "code",
   "execution_count": 4,
   "metadata": {
    "collapsed": true
   },
   "outputs": [],
   "source": [
    "from __future__ import print_function\n",
    "import torch\n",
    "import torch.nn as nn\n",
    "import torch.nn.functional as F\n",
    "import torch.optim as optim\n",
    "from torchvision import datasets, transforms\n",
    "import numpy as np\n",
    "import matplotlib.pyplot as plt\n",
    "\n"
   ]
  },
  {
   "cell_type": "code",
   "execution_count": 5,
   "outputs": [],
   "source": [
    "epsilons = [0, .05, .1, .15, .2, .25, .3]\n",
    "pretrained_model = \"F:\\\\Git_Library\\\\Note\\\\ML\\\\torch\\\\data\\\\lenet_mnist_model.pth\"\n",
    "use_cuda=True\n"
   ],
   "metadata": {
    "collapsed": false,
    "pycharm": {
     "name": "#%%\n"
    }
   }
  },
  {
   "cell_type": "code",
   "execution_count": 6,
   "outputs": [
    {
     "name": "stderr",
     "output_type": "stream",
     "text": [
      "9920512it [00:02, 3489963.08it/s]                                                                                                                                                                           \n",
      "32768it [00:00, 59280.33it/s]                                                                                                                                                                               \n",
      "1654784it [00:01, 1102333.60it/s]                                                                                                                                                                           \n",
      "8192it [00:00, 18445.78it/s]                                                                                                                                                                                \n"
     ]
    },
    {
     "name": "stdout",
     "output_type": "stream",
     "text": [
      "Downloading http://yann.lecun.com/exdb/mnist/train-images-idx3-ubyte.gz to F:\\Git_Library\\Note\\ML\\torch\\data\\MNIST\\raw\\train-images-idx3-ubyte.gz\n",
      "Extracting F:\\Git_Library\\Note\\ML\\torch\\data\\MNIST\\raw\\train-images-idx3-ubyte.gz to F:\\Git_Library\\Note\\ML\\torch\\data\\MNIST\\raw\n",
      "Downloading http://yann.lecun.com/exdb/mnist/train-labels-idx1-ubyte.gz to F:\\Git_Library\\Note\\ML\\torch\\data\\MNIST\\raw\\train-labels-idx1-ubyte.gz\n",
      "Extracting F:\\Git_Library\\Note\\ML\\torch\\data\\MNIST\\raw\\train-labels-idx1-ubyte.gz to F:\\Git_Library\\Note\\ML\\torch\\data\\MNIST\\raw\n",
      "Downloading http://yann.lecun.com/exdb/mnist/t10k-images-idx3-ubyte.gz to F:\\Git_Library\\Note\\ML\\torch\\data\\MNIST\\raw\\t10k-images-idx3-ubyte.gz\n",
      "Extracting F:\\Git_Library\\Note\\ML\\torch\\data\\MNIST\\raw\\t10k-images-idx3-ubyte.gz to F:\\Git_Library\\Note\\ML\\torch\\data\\MNIST\\raw\n",
      "Downloading http://yann.lecun.com/exdb/mnist/t10k-labels-idx1-ubyte.gz to F:\\Git_Library\\Note\\ML\\torch\\data\\MNIST\\raw\\t10k-labels-idx1-ubyte.gz\n",
      "Extracting F:\\Git_Library\\Note\\ML\\torch\\data\\MNIST\\raw\\t10k-labels-idx1-ubyte.gz to F:\\Git_Library\\Note\\ML\\torch\\data\\MNIST\\raw\n",
      "Processing...\n",
      "Done!\n",
      "CUDA Available:  True\n"
     ]
    },
    {
     "data": {
      "text/plain": "Net(\n  (conv1): Conv2d(1, 10, kernel_size=(5, 5), stride=(1, 1))\n  (conv2): Conv2d(10, 20, kernel_size=(5, 5), stride=(1, 1))\n  (conv2_drop): Dropout2d(p=0.5, inplace=False)\n  (fc1): Linear(in_features=320, out_features=50, bias=True)\n  (fc2): Linear(in_features=50, out_features=10, bias=True)\n)"
     },
     "execution_count": 6,
     "metadata": {},
     "output_type": "execute_result"
    }
   ],
   "source": [
    "# LeNet Model definition\n",
    "class Net(nn.Module):\n",
    "    def __init__(self):\n",
    "        super(Net, self).__init__()\n",
    "        self.conv1 = nn.Conv2d(1, 10, kernel_size=5)\n",
    "        self.conv2 = nn.Conv2d(10, 20, kernel_size=5)\n",
    "        self.conv2_drop = nn.Dropout2d()\n",
    "        self.fc1 = nn.Linear(320, 50)\n",
    "        self.fc2 = nn.Linear(50, 10)\n",
    "\n",
    "    def forward(self, x):\n",
    "        x = F.relu(F.max_pool2d(self.conv1(x), 2))\n",
    "        x = F.relu(F.max_pool2d(self.conv2_drop(self.conv2(x)), 2))\n",
    "        x = x.view(-1, 320)\n",
    "        x = F.relu(self.fc1(x))\n",
    "        x = F.dropout(x, training=self.training)\n",
    "        x = self.fc2(x)\n",
    "        return F.log_softmax(x, dim=1)\n",
    "\n",
    "# MNIST Test dataset and dataloader declaration\n",
    "test_loader = torch.utils.data.DataLoader(\n",
    "    datasets.MNIST('F:\\\\Git_Library\\\\Note\\\\ML\\\\torch\\\\data', train=False, download=True, transform=transforms.Compose([\n",
    "            transforms.ToTensor(),\n",
    "            ])),\n",
    "        batch_size=1, shuffle=True)\n",
    "\n",
    "# Define what device we are using\n",
    "print(\"CUDA Available: \",torch.cuda.is_available())\n",
    "device = torch.device(\"cuda\" if (use_cuda and torch.cuda.is_available()) else \"cpu\")\n",
    "\n",
    "# Initialize the network\n",
    "model = Net().to(device)\n",
    "\n",
    "# Load the pretrained model\n",
    "model.load_state_dict(torch.load(pretrained_model, map_location='cpu'))\n",
    "\n",
    "# Set the model in evaluation mode. In this case this is for the Dropout layers\n",
    "model.eval()\n"
   ],
   "metadata": {
    "collapsed": false,
    "pycharm": {
     "name": "#%%\n"
    }
   }
  },
  {
   "cell_type": "code",
   "execution_count": 6,
   "outputs": [],
   "source": [
    "\n"
   ],
   "metadata": {
    "collapsed": false,
    "pycharm": {
     "name": "#%%\n"
    }
   }
  }
 ],
 "metadata": {
  "kernelspec": {
   "display_name": "Python 3.6.9 64-bit (virtualenv)",
   "language": "python",
   "name": "python36964bitvirtualenvf06dec93c71d4e1b998efef1e73f25c5"
  },
  "language_info": {
   "codemirror_mode": {
    "name": "ipython",
    "version": 2
   },
   "file_extension": ".py",
   "mimetype": "text/x-python",
   "name": "python",
   "nbconvert_exporter": "python",
   "pygments_lexer": "ipython2",
   "version": "2.7.6"
  }
 },
 "nbformat": 4,
 "nbformat_minor": 0
}